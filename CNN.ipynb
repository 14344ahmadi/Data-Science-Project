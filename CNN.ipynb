{
 "cells": [
  {
   "cell_type": "code",
   "execution_count": 3,
   "id": "5f8bdd82-dba9-4db2-b178-2603afb69627",
   "metadata": {},
   "outputs": [],
   "source": [
    "import pandas as pd"
   ]
  },
  {
   "cell_type": "code",
   "execution_count": 4,
   "id": "a92708a8-22ec-40b3-b8cb-99b627417303",
   "metadata": {},
   "outputs": [],
   "source": [
    "# Load the data\n",
    "df = pd.read_csv('data/prepared_data.csv')\n",
    "\n",
    "# Select relevant columns\n",
    "df = df[['cleaned_text', 'LabelMapped']]"
   ]
  },
  {
   "cell_type": "code",
   "execution_count": 5,
   "id": "959c4dae-4790-4c85-8253-aad621f1dd07",
   "metadata": {},
   "outputs": [
    {
     "data": {
      "text/html": [
       "<div>\n",
       "<style scoped>\n",
       "    .dataframe tbody tr th:only-of-type {\n",
       "        vertical-align: middle;\n",
       "    }\n",
       "\n",
       "    .dataframe tbody tr th {\n",
       "        vertical-align: top;\n",
       "    }\n",
       "\n",
       "    .dataframe thead th {\n",
       "        text-align: right;\n",
       "    }\n",
       "</style>\n",
       "<table border=\"1\" class=\"dataframe\">\n",
       "  <thead>\n",
       "    <tr style=\"text-align: right;\">\n",
       "      <th></th>\n",
       "      <th>cleaned_text</th>\n",
       "      <th>LabelMapped</th>\n",
       "    </tr>\n",
       "  </thead>\n",
       "  <tbody>\n",
       "    <tr>\n",
       "      <th>0</th>\n",
       "      <td>arrived broken manufacturer defect two of the ...</td>\n",
       "      <td>-1</td>\n",
       "    </tr>\n",
       "    <tr>\n",
       "      <th>1</th>\n",
       "      <td>the cabinet dot were all detached from backing...</td>\n",
       "      <td>-1</td>\n",
       "    </tr>\n",
       "    <tr>\n",
       "      <th>2</th>\n",
       "      <td>i received my first order of this product and ...</td>\n",
       "      <td>-1</td>\n",
       "    </tr>\n",
       "    <tr>\n",
       "      <th>3</th>\n",
       "      <td>this product is a piece of shit do not buy doe...</td>\n",
       "      <td>-1</td>\n",
       "    </tr>\n",
       "    <tr>\n",
       "      <th>4</th>\n",
       "      <td>went through in one day doesnt fit correct and...</td>\n",
       "      <td>-1</td>\n",
       "    </tr>\n",
       "    <tr>\n",
       "      <th>...</th>\n",
       "      <td>...</td>\n",
       "      <td>...</td>\n",
       "    </tr>\n",
       "    <tr>\n",
       "      <th>255077</th>\n",
       "      <td>racaltosk ok good to know punting at metlife i...</td>\n",
       "      <td>1</td>\n",
       "    </tr>\n",
       "    <tr>\n",
       "      <th>255078</th>\n",
       "      <td>everyone who sat around me at metlife was so a...</td>\n",
       "      <td>0</td>\n",
       "    </tr>\n",
       "    <tr>\n",
       "      <th>255079</th>\n",
       "      <td>what giants or niners fans would wanna go to t...</td>\n",
       "      <td>0</td>\n",
       "    </tr>\n",
       "    <tr>\n",
       "      <th>255080</th>\n",
       "      <td>anybody want a ticket for tomorrow colombia vs...</td>\n",
       "      <td>1</td>\n",
       "    </tr>\n",
       "    <tr>\n",
       "      <th>255081</th>\n",
       "      <td>mendez told me hed drive me to metlife on sund...</td>\n",
       "      <td>0</td>\n",
       "    </tr>\n",
       "  </tbody>\n",
       "</table>\n",
       "<p>255082 rows × 2 columns</p>\n",
       "</div>"
      ],
      "text/plain": [
       "                                             cleaned_text  LabelMapped\n",
       "0       arrived broken manufacturer defect two of the ...           -1\n",
       "1       the cabinet dot were all detached from backing...           -1\n",
       "2       i received my first order of this product and ...           -1\n",
       "3       this product is a piece of shit do not buy doe...           -1\n",
       "4       went through in one day doesnt fit correct and...           -1\n",
       "...                                                   ...          ...\n",
       "255077  racaltosk ok good to know punting at metlife i...            1\n",
       "255078  everyone who sat around me at metlife was so a...            0\n",
       "255079  what giants or niners fans would wanna go to t...            0\n",
       "255080  anybody want a ticket for tomorrow colombia vs...            1\n",
       "255081  mendez told me hed drive me to metlife on sund...            0\n",
       "\n",
       "[255082 rows x 2 columns]"
      ]
     },
     "execution_count": 5,
     "metadata": {},
     "output_type": "execute_result"
    }
   ],
   "source": [
    "df"
   ]
  },
  {
   "cell_type": "markdown",
   "id": "353ba628-b994-4c57-a872-5bebb8ef7ab4",
   "metadata": {},
   "source": [
    "## common data preparation"
   ]
  },
  {
   "cell_type": "code",
   "execution_count": 7,
   "id": "64338122-f054-4add-b672-23a58231644c",
   "metadata": {},
   "outputs": [
    {
     "name": "stdout",
     "output_type": "stream",
     "text": [
      "[0 1 2]\n"
     ]
    }
   ],
   "source": [
    "import pandas as pd\n",
    "import numpy as np\n",
    "from sklearn.model_selection import train_test_split\n",
    "from tensorflow.keras.preprocessing.text import Tokenizer\n",
    "from tensorflow.keras.preprocessing.sequence import pad_sequences\n",
    "from tensorflow.keras.utils import to_categorical\n",
    "\n",
    "# Load the data\n",
    "df = pd.read_csv('data/prepared_data.csv')\n",
    "\n",
    "# Select relevant columns\n",
    "df = df[['cleaned_text', 'LabelMapped']]\n",
    "\n",
    "# Encode labels (convert -1 to 0, 0 to 1, 1 to 2)\n",
    "df['LabelMapped'] = df['LabelMapped'].apply(lambda x: x + 1)\n",
    "\n",
    "# Ensure labels are correctly transformed\n",
    "print(df['LabelMapped'].unique())  # Should print [0, 1, 2]\n",
    "\n",
    "# One-hot encode labels\n",
    "labels = to_categorical(df['LabelMapped'], num_classes=3)\n",
    "\n",
    "# Split data into training and test sets\n",
    "train_texts, test_texts, train_labels, test_labels = train_test_split(\n",
    "    df['cleaned_text'], labels, test_size=0.2, random_state=42\n",
    ")\n",
    "\n",
    "# Tokenize the text\n",
    "tokenizer = Tokenizer(num_words=10000, oov_token=\"<OOV>\")\n",
    "tokenizer.fit_on_texts(train_texts)\n",
    "train_sequences = tokenizer.texts_to_sequences(train_texts)\n",
    "test_sequences = tokenizer.texts_to_sequences(test_texts)\n",
    "\n",
    "# Pad the sequences\n",
    "max_length = 100\n",
    "train_padded = pad_sequences(train_sequences, maxlen=max_length, padding='post', truncating='post')\n",
    "test_padded = pad_sequences(test_sequences, maxlen=max_length, padding='post', truncating='post')\n",
    "\n",
    "# Convert to numpy arrays\n",
    "train_padded = np.array(train_padded)\n",
    "test_padded = np.array(test_padded)\n",
    "train_labels = np.array(train_labels)\n",
    "test_labels = np.array(test_labels)\n"
   ]
  },
  {
   "cell_type": "markdown",
   "id": "fbcea725-9398-4019-acf5-5189477dc72f",
   "metadata": {},
   "source": [
    "## CNN"
   ]
  },
  {
   "cell_type": "code",
   "execution_count": 8,
   "id": "b5438848-5f55-4aef-83b2-e8302ef1552d",
   "metadata": {},
   "outputs": [
    {
     "name": "stdout",
     "output_type": "stream",
     "text": [
      "Epoch 1/10\n"
     ]
    },
    {
     "name": "stderr",
     "output_type": "stream",
     "text": [
      "/opt/conda/envs/dspt/lib/python3.11/site-packages/keras/src/layers/core/embedding.py:90: UserWarning: Argument `input_length` is deprecated. Just remove it.\n",
      "  warnings.warn(\n"
     ]
    },
    {
     "name": "stdout",
     "output_type": "stream",
     "text": [
      "6378/6378 - 47s - 7ms/step - accuracy: 0.6666 - loss: 0.7575 - val_accuracy: 0.7072 - val_loss: 0.6677\n",
      "Epoch 2/10\n",
      "6378/6378 - 45s - 7ms/step - accuracy: 0.7165 - loss: 0.6653 - val_accuracy: 0.7104 - val_loss: 0.6669\n",
      "Epoch 3/10\n",
      "6378/6378 - 44s - 7ms/step - accuracy: 0.7432 - loss: 0.6078 - val_accuracy: 0.7067 - val_loss: 0.6676\n",
      "Epoch 4/10\n",
      "6378/6378 - 44s - 7ms/step - accuracy: 0.7709 - loss: 0.5486 - val_accuracy: 0.7065 - val_loss: 0.7179\n",
      "Epoch 5/10\n",
      "6378/6378 - 44s - 7ms/step - accuracy: 0.7963 - loss: 0.4915 - val_accuracy: 0.6944 - val_loss: 0.7446\n",
      "Epoch 6/10\n",
      "6378/6378 - 44s - 7ms/step - accuracy: 0.8208 - loss: 0.4405 - val_accuracy: 0.6898 - val_loss: 0.8405\n",
      "Epoch 7/10\n",
      "6378/6378 - 44s - 7ms/step - accuracy: 0.8416 - loss: 0.3924 - val_accuracy: 0.6782 - val_loss: 1.0165\n",
      "Epoch 8/10\n",
      "6378/6378 - 44s - 7ms/step - accuracy: 0.8599 - loss: 0.3553 - val_accuracy: 0.6807 - val_loss: 1.0233\n",
      "Epoch 9/10\n",
      "6378/6378 - 44s - 7ms/step - accuracy: 0.8730 - loss: 0.3242 - val_accuracy: 0.6765 - val_loss: 1.1502\n",
      "Epoch 10/10\n",
      "6378/6378 - 44s - 7ms/step - accuracy: 0.8867 - loss: 0.2935 - val_accuracy: 0.6637 - val_loss: 1.2747\n",
      "1595/1595 - 3s - 2ms/step - accuracy: 0.6637 - loss: 1.2747\n",
      "CNN Model - Loss: 1.2747451066970825\n",
      "CNN Model - Accuracy: 0.6637003421783447\n"
     ]
    }
   ],
   "source": [
    "from tensorflow.keras.models import Sequential\n",
    "from tensorflow.keras.layers import Embedding, Conv1D, GlobalMaxPooling1D, Dense, Dropout\n",
    "\n",
    "# Define the CNN model\n",
    "cnn_model = Sequential([\n",
    "    Embedding(input_dim=10000, output_dim=64, input_length=max_length),\n",
    "    Conv1D(128, 5, activation='relu'),\n",
    "    GlobalMaxPooling1D(),\n",
    "    Dense(24, activation='relu'),\n",
    "    Dropout(0.5),\n",
    "    Dense(3, activation='softmax')\n",
    "])\n",
    "\n",
    "# Compile the model\n",
    "cnn_model.compile(optimizer='adam', loss='categorical_crossentropy', metrics=['accuracy'])\n",
    "\n",
    "# Train the model\n",
    "cnn_history = cnn_model.fit(\n",
    "    train_padded,\n",
    "    train_labels,\n",
    "    epochs=10,\n",
    "    validation_data=(test_padded, test_labels),\n",
    "    verbose=2\n",
    ")\n",
    "\n",
    "# Evaluate the model\n",
    "cnn_loss, cnn_accuracy = cnn_model.evaluate(test_padded, test_labels, verbose=2)\n",
    "print(f'CNN Model - Loss: {cnn_loss}')\n",
    "print(f'CNN Model - Accuracy: {cnn_accuracy}')\n"
   ]
  },
  {
   "cell_type": "code",
   "execution_count": 11,
   "id": "a2a44378-7921-4778-9162-957d3af3ac83",
   "metadata": {},
   "outputs": [
    {
     "name": "stdout",
     "output_type": "stream",
     "text": [
      "1595/1595 - 4s - 2ms/step\n"
     ]
    },
    {
     "data": {
      "image/png": "[encoded data removed]",
      "text/plain": [
       "<Figure size 640x480 with 2 Axes>"
      ]
     },
     "metadata": {},
     "output_type": "display_data"
    }
   ],
   "source": [
    "import numpy as np\n",
    "from sklearn.metrics import confusion_matrix, ConfusionMatrixDisplay\n",
    "import matplotlib.pyplot as plt\n",
    "\n",
    "# Predict the class probabilities for the test set\n",
    "predictions = cnn_model.predict(test_padded, verbose=2)\n",
    "\n",
    "# Convert probabilities to class labels\n",
    "predicted_labels = np.argmax(predictions, axis=1)\n",
    "true_labels = np.argmax(test_labels, axis=1)\n",
    "\n",
    "# Generate the confusion matrix\n",
    "cm = confusion_matrix(true_labels, predicted_labels, labels=[0, 1, 2])\n",
    "\n",
    "# Display the confusion matrix\n",
    "disp = ConfusionMatrixDisplay(confusion_matrix=cm, display_labels=[0, 1, 2])\n",
    "disp.plot(cmap=plt.cm.Blues)\n",
    "plt.show()\n"
   ]
  },
  {
   "cell_type": "code",
   "execution_count": null,
   "id": "c129c3c0-ca8a-4292-ba04-320ac9ff7af7",
   "metadata": {},
   "outputs": [],
   "source": []
  }
 ],
 "metadata": {
  "kernelspec": {
   "display_name": "DSPT",
   "language": "python",
   "name": "dspt"
  },
  "language_info": {
   "codemirror_mode": {
    "name": "ipython",
    "version": 3
   },
   "file_extension": ".py",
   "mimetype": "text/x-python",
   "name": "python",
   "nbconvert_exporter": "python",
   "pygments_lexer": "ipython3",
   "version": "3.11.8"
  }
 },
 "nbformat": 4,
 "nbformat_minor": 5
}
