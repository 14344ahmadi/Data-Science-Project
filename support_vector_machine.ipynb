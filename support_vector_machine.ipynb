{
 "cells": [
  {
   "cell_type": "code",
   "execution_count": 2,
   "id": "8245984b-22ac-47b5-9afd-f042a893f1c6",
   "metadata": {
    "editable": true,
    "slideshow": {
     "slide_type": ""
    },
    "tags": []
   },
   "outputs": [],
   "source": [
    "import pandas as pd\n",
    "import re\n",
    "import nltk\n",
    "import numpy as np\n",
    "import matplotlib.pyplot as plt\n",
    "\n",
    "from scipy.sparse import csr_matrix\n",
    "from nltk.corpus import stopwords\n",
    "from nltk.stem import WordNetLemmatizer\n",
    "from sklearn.metrics import confusion_matrix, ConfusionMatrixDisplay\n",
    "from sklearn.feature_extraction.text import TfidfVectorizer\n",
    "from sklearn.feature_selection import SelectKBest, chi2\n",
    "from sklearn.model_selection import train_test_split, GridSearchCV\n",
    "from sklearn.svm import SVC\n",
    "from sklearn.metrics import classification_report, accuracy_score"
   ]
  },
  {
   "cell_type": "code",
   "execution_count": 3,
   "id": "1985e6e2-f9fa-4356-a21e-7bb3737be21d",
   "metadata": {},
   "outputs": [],
   "source": [
    "pd.set_option('display.max_columns', None)\n",
    "pd.set_option('display.max_rows', None)\n",
    "pd.set_option('display.max_colwidth', None)\n",
    "pd.set_option('display.width', None)"
   ]
  },
  {
   "cell_type": "markdown",
   "id": "38c038b0-f3d5-4216-8406-b391619b1aa1",
   "metadata": {},
   "source": [
    "## Support Vector Machines"
   ]
  },
  {
   "cell_type": "code",
   "execution_count": 4,
   "id": "86f598f7-6606-4eb3-9903-4412fb6bda93",
   "metadata": {},
   "outputs": [],
   "source": [
    "df = pd.read_csv(\"data/prepared_data.csv\")"
   ]
  },
  {
   "cell_type": "code",
   "execution_count": 5,
   "id": "084432bb-b656-4a30-8de1-7c6bed26b1a7",
   "metadata": {},
   "outputs": [
    {
     "data": {
      "text/plain": [
       "(255082, 10)"
      ]
     },
     "execution_count": 5,
     "metadata": {},
     "output_type": "execute_result"
    }
   ],
   "source": [
    "df.shape"
   ]
  },
  {
   "cell_type": "code",
   "execution_count": 6,
   "id": "7dd6edc2-8568-47b1-9479-5567d55966aa",
   "metadata": {},
   "outputs": [
    {
     "data": {
      "text/plain": [
       "array(['Review', 'Tweet'], dtype=object)"
      ]
     },
     "execution_count": 6,
     "metadata": {},
     "output_type": "execute_result"
    }
   ],
   "source": [
    "df['DocumentType'].unique()"
   ]
  },
  {
   "cell_type": "code",
   "execution_count": 7,
   "id": "75f8a40e-d772-43f2-af98-d45373b33b14",
   "metadata": {},
   "outputs": [
    {
     "data": {
      "text/html": [
       "<div>\n",
       "<style scoped>\n",
       "    .dataframe tbody tr th:only-of-type {\n",
       "        vertical-align: middle;\n",
       "    }\n",
       "\n",
       "    .dataframe tbody tr th {\n",
       "        vertical-align: top;\n",
       "    }\n",
       "\n",
       "    .dataframe thead th {\n",
       "        text-align: right;\n",
       "    }\n",
       "</style>\n",
       "<table border=\"1\" class=\"dataframe\">\n",
       "  <thead>\n",
       "    <tr style=\"text-align: right;\">\n",
       "      <th></th>\n",
       "      <th>DocumentID</th>\n",
       "      <th>Text</th>\n",
       "      <th>Label</th>\n",
       "      <th>LabelType</th>\n",
       "      <th>LabelName</th>\n",
       "      <th>DocumentType</th>\n",
       "      <th>LengthCharacters</th>\n",
       "      <th>HasEmoji</th>\n",
       "      <th>cleaned_text</th>\n",
       "      <th>LabelMapped</th>\n",
       "    </tr>\n",
       "  </thead>\n",
       "  <tbody>\n",
       "    <tr>\n",
       "      <th>0</th>\n",
       "      <td>1</td>\n",
       "      <td>Arrived broken. Manufacturer defect. Two of the legs of the base were not completely formed, so there was no way to insert the casters. I unpackaged the entire chair and hardware before noticing this. So, I'll spend twice the amount of time boxing up the whole useless thing and send it back with a 1-star review of part of a chair I never got to sit in. I will go so far as to include a picture of what their injection molding and quality assurance process missed though. I will be hesitant to buy again. It makes me wonder if there aren't missing structures and supports that don't impede the assembly process.</td>\n",
       "      <td>1</td>\n",
       "      <td>StarRating</td>\n",
       "      <td>1 Star</td>\n",
       "      <td>Review</td>\n",
       "      <td>612</td>\n",
       "      <td>0</td>\n",
       "      <td>arrived broken manufacturer defect two of the legs of the base were not completely formed so there was no way to insert the casters i unpackaged the entire chair and hardware before noticing this so ill spend twice the amount of time boxing up the whole useless thing and send it back with a star review of part of a chair i never got to sit in i will go so far as to include a picture of what their injection molding and quality assurance process missed though i will be hesitant to buy again it makes me wonder if there arent missing structures and supports that dont impede the assembly process</td>\n",
       "      <td>-1</td>\n",
       "    </tr>\n",
       "    <tr>\n",
       "      <th>1</th>\n",
       "      <td>2</td>\n",
       "      <td>the cabinet dot were all detached from backing... got me</td>\n",
       "      <td>1</td>\n",
       "      <td>StarRating</td>\n",
       "      <td>1 Star</td>\n",
       "      <td>Review</td>\n",
       "      <td>56</td>\n",
       "      <td>0</td>\n",
       "      <td>the cabinet dot were all detached from backing got me</td>\n",
       "      <td>-1</td>\n",
       "    </tr>\n",
       "    <tr>\n",
       "      <th>2</th>\n",
       "      <td>3</td>\n",
       "      <td>I received my first order of this product and it was broke so I ordered it again. The second one was broke in more places than the first. I can't blame the shipping process as it's shrink wrapped and boxed.</td>\n",
       "      <td>1</td>\n",
       "      <td>StarRating</td>\n",
       "      <td>1 Star</td>\n",
       "      <td>Review</td>\n",
       "      <td>206</td>\n",
       "      <td>0</td>\n",
       "      <td>i received my first order of this product and it was broke so i ordered it again the second one was broke in more places than the first i cant blame the shipping process as its shrink wrapped and boxed</td>\n",
       "      <td>-1</td>\n",
       "    </tr>\n",
       "    <tr>\n",
       "      <th>3</th>\n",
       "      <td>4</td>\n",
       "      <td>This product is a piece of shit. Do not buy. Doesn't work, and then I try to call for customer support, it won't take my number. Fucking rip off!</td>\n",
       "      <td>1</td>\n",
       "      <td>StarRating</td>\n",
       "      <td>1 Star</td>\n",
       "      <td>Review</td>\n",
       "      <td>145</td>\n",
       "      <td>0</td>\n",
       "      <td>this product is a piece of shit do not buy doesnt work and then i try to call for customer support it wont take my number fucking rip off</td>\n",
       "      <td>-1</td>\n",
       "    </tr>\n",
       "    <tr>\n",
       "      <th>4</th>\n",
       "      <td>5</td>\n",
       "      <td>went through 3 in one day doesn't fit correct and couldn't get bubbles out (better without)</td>\n",
       "      <td>1</td>\n",
       "      <td>StarRating</td>\n",
       "      <td>1 Star</td>\n",
       "      <td>Review</td>\n",
       "      <td>91</td>\n",
       "      <td>0</td>\n",
       "      <td>went through in one day doesnt fit correct and couldnt get bubbles out better without</td>\n",
       "      <td>-1</td>\n",
       "    </tr>\n",
       "  </tbody>\n",
       "</table>\n",
       "</div>"
      ],
      "text/plain": [
       "   DocumentID  \\\n",
       "0           1   \n",
       "1           2   \n",
       "2           3   \n",
       "3           4   \n",
       "4           5   \n",
       "\n",
       "                                                                                                                                                                                                                                                                                                                                                                                                                                                                                                                                                                                                                                   Text  \\\n",
       "0  Arrived broken. Manufacturer defect. Two of the legs of the base were not completely formed, so there was no way to insert the casters. I unpackaged the entire chair and hardware before noticing this. So, I'll spend twice the amount of time boxing up the whole useless thing and send it back with a 1-star review of part of a chair I never got to sit in. I will go so far as to include a picture of what their injection molding and quality assurance process missed though. I will be hesitant to buy again. It makes me wonder if there aren't missing structures and supports that don't impede the assembly process.   \n",
       "1                                                                                                                                                                                                                                                                                                                                                                                                                                                                                                                                                                              the cabinet dot were all detached from backing... got me   \n",
       "2                                                                                                                                                                                                                                                                                                                                                                                                                        I received my first order of this product and it was broke so I ordered it again. The second one was broke in more places than the first. I can't blame the shipping process as it's shrink wrapped and boxed.   \n",
       "3                                                                                                                                                                                                                                                                                                                                                                                                                                                                                     This product is a piece of shit. Do not buy. Doesn't work, and then I try to call for customer support, it won't take my number. Fucking rip off!   \n",
       "4                                                                                                                                                                                                                                                                                                                                                                                                                                                                                                                                           went through 3 in one day doesn't fit correct and couldn't get bubbles out (better without)   \n",
       "\n",
       "   Label   LabelType LabelName DocumentType  LengthCharacters  HasEmoji  \\\n",
       "0      1  StarRating    1 Star       Review               612         0   \n",
       "1      1  StarRating    1 Star       Review                56         0   \n",
       "2      1  StarRating    1 Star       Review               206         0   \n",
       "3      1  StarRating    1 Star       Review               145         0   \n",
       "4      1  StarRating    1 Star       Review                91         0   \n",
       "\n",
       "                                                                                                                                                                                                                                                                                                                                                                                                                                                                                                                                                                                                            cleaned_text  \\\n",
       "0  arrived broken manufacturer defect two of the legs of the base were not completely formed so there was no way to insert the casters i unpackaged the entire chair and hardware before noticing this so ill spend twice the amount of time boxing up the whole useless thing and send it back with a star review of part of a chair i never got to sit in i will go so far as to include a picture of what their injection molding and quality assurance process missed though i will be hesitant to buy again it makes me wonder if there arent missing structures and supports that dont impede the assembly process   \n",
       "1                                                                                                                                                                                                                                                                                                                                                                                                                                                                                                                                                                  the cabinet dot were all detached from backing got me   \n",
       "2                                                                                                                                                                                                                                                                                                                                                                                                              i received my first order of this product and it was broke so i ordered it again the second one was broke in more places than the first i cant blame the shipping process as its shrink wrapped and boxed   \n",
       "3                                                                                                                                                                                                                                                                                                                                                                                                                                                                              this product is a piece of shit do not buy doesnt work and then i try to call for customer support it wont take my number fucking rip off   \n",
       "4                                                                                                                                                                                                                                                                                                                                                                                                                                                                                                                                  went through in one day doesnt fit correct and couldnt get bubbles out better without   \n",
       "\n",
       "   LabelMapped  \n",
       "0           -1  \n",
       "1           -1  \n",
       "2           -1  \n",
       "3           -1  \n",
       "4           -1  "
      ]
     },
     "execution_count": 7,
     "metadata": {},
     "output_type": "execute_result"
    }
   ],
   "source": [
    "df.head()"
   ]
  },
  {
   "cell_type": "markdown",
   "id": "d935f050-22d7-4674-9564-c4bdb42ffc86",
   "metadata": {},
   "source": [
    "## 1. First attempt without any optimisations"
   ]
  },
  {
   "cell_type": "markdown",
   "id": "5b2fa98e-369a-4f33-a95f-43e20ee7ba8a",
   "metadata": {},
   "source": [
    "### 1.1 Prepare data"
   ]
  },
  {
   "cell_type": "code",
   "execution_count": 8,
   "id": "9fc12a6b-bd50-4fa9-9f7b-e807c9b9acd2",
   "metadata": {},
   "outputs": [],
   "source": [
    "X = df['cleaned_text']\n",
    "y = df['LabelMapped']"
   ]
  },
  {
   "cell_type": "code",
   "execution_count": 9,
   "id": "ffc7d380-d4a3-4e5a-9903-0f622d446a64",
   "metadata": {},
   "outputs": [
    {
     "name": "stderr",
     "output_type": "stream",
     "text": [
      "[nltk_data] Downloading package stopwords to /home/mja227/nltk_data...\n",
      "[nltk_data]   Package stopwords is already up-to-date!\n",
      "[nltk_data] Downloading package wordnet to /home/mja227/nltk_data...\n",
      "[nltk_data]   Package wordnet is already up-to-date!\n"
     ]
    }
   ],
   "source": [
    "nltk.download('stopwords')\n",
    "nltk.download('wordnet')\n",
    "\n",
    "stop_words = set(stopwords.words('english'))\n",
    "lemmatizer = WordNetLemmatizer()\n",
    "\n",
    "def preprocess_text(text):\n",
    "    tokens = text.split()\n",
    "    tokens = [lemmatizer.lemmatize(word) for word in tokens if word not in stop_words]\n",
    "    return ' '.join(tokens)"
   ]
  },
  {
   "cell_type": "markdown",
   "id": "9eeeb89d-92f3-4e3f-8512-18eb28e28675",
   "metadata": {},
   "source": [
    "### 1.2.1 Vectorize text"
   ]
  },
  {
   "cell_type": "code",
   "execution_count": 10,
   "id": "6627522a-813c-4fc8-aef3-b63a9f326f46",
   "metadata": {},
   "outputs": [
    {
     "name": "stdout",
     "output_type": "stream",
     "text": [
      "Shape of TF-IDF matrix: (255082, 5000)\n"
     ]
    }
   ],
   "source": [
    "X_processed = [preprocess_text(i) for i in X]\n",
    "vectorizer = TfidfVectorizer()\n",
    "\n",
    "tfidf_vectorizer = TfidfVectorizer(max_features=5000, ngram_range=(1, 2), stop_words='english')\n",
    "\n",
    "X_tfidf = tfidf_vectorizer.fit_transform(X_processed)\n",
    "\n",
    "print(\"Shape of TF-IDF matrix:\", X_tfidf.shape)"
   ]
  },
  {
   "cell_type": "markdown",
   "id": "01a1fcd5-756d-4dd5-a94b-a2b281364d47",
   "metadata": {},
   "source": [
    "### 1.2.2 Feauture Selection"
   ]
  },
  {
   "cell_type": "code",
   "execution_count": 11,
   "id": "5a49319a-e228-4cd8-ad3b-43a8e6b76b2d",
   "metadata": {},
   "outputs": [],
   "source": [
    "chi2_selector = SelectKBest(chi2, k=100)\n",
    "X_kselect = chi2_selector.fit_transform(X_tfidf, y)\n",
    "\n",
    "feature_sums = np.array(X_kselect.sum(axis=0)).flatten()\n",
    "k=5\n",
    "top_k_indices = np.argsort(feature_sums)[-k:]\n",
    "\n",
    "X_kbest = X_kselect[:, top_k_indices]"
   ]
  },
  {
   "cell_type": "code",
   "execution_count": 12,
   "id": "f315df80-2d12-4a88-8185-099c5518b9a9",
   "metadata": {},
   "outputs": [
    {
     "name": "stdout",
     "output_type": "stream",
     "text": [
      "110558\n"
     ]
    }
   ],
   "source": [
    "print(X_kbest.nnz)"
   ]
  },
  {
   "cell_type": "markdown",
   "id": "dfab09df-33ec-41f0-971f-d243c14b1ae9",
   "metadata": {},
   "source": [
    "### 1.3.1 Train a model "
   ]
  },
  {
   "cell_type": "code",
   "execution_count": 13,
   "id": "711c0589-556c-496c-9ad7-bcb246d2a079",
   "metadata": {},
   "outputs": [],
   "source": [
    "X_train, X_test, y_train, y_test = train_test_split(X_kbest, y, test_size=0.2, random_state=42)"
   ]
  },
  {
   "cell_type": "markdown",
   "id": "6fcb16d3-e6a2-4cd2-99bd-5c36270a5fe0",
   "metadata": {},
   "source": [
    "### 1.3.2 Grid Search"
   ]
  },
  {
   "cell_type": "code",
   "execution_count": 12,
   "id": "ba806729-fef5-4a10-b095-6bd485b2579b",
   "metadata": {},
   "outputs": [
    {
     "name": "stdout",
     "output_type": "stream",
     "text": [
      "Fitting 3 folds for each of 18 candidates, totalling 54 fits\n",
      "[CV] END ......................C=0.1, gamma=0.1, kernel=rbf; total time=122.1min\n",
      "[CV] END ......................C=1, gamma=0.001, kernel=rbf; total time=139.8min\n",
      "[CV] END ......................C=1, gamma=0.001, kernel=rbf; total time=141.0min\n",
      "[CV] END .....................C=0.1, gamma=0.01, kernel=rbf; total time=141.0min\n",
      "[CV] END .....................C=0.1, gamma=0.01, kernel=rbf; total time=141.1min\n",
      "[CV] END .....................C=0.1, gamma=0.01, kernel=rbf; total time=141.2min\n",
      "[CV] END ......................C=1, gamma=0.001, kernel=rbf; total time=141.6min\n",
      "[CV] END ....................C=0.1, gamma=0.001, kernel=rbf; total time=164.8min\n",
      "[CV] END ....................C=0.1, gamma=0.001, kernel=rbf; total time=166.1min\n",
      "[CV] END ....................C=0.1, gamma=0.001, kernel=rbf; total time=166.5min\n",
      "[CV] END ....................C=0.1, gamma=0.1, kernel=linear; total time=97.6min\n",
      "[CV] END .........................C=1, gamma=0.1, kernel=rbf; total time=97.7min\n",
      "[CV] END ....................C=0.1, gamma=0.1, kernel=linear; total time=97.7min\n",
      "[CV] END .........................C=1, gamma=0.1, kernel=rbf; total time=99.1min\n",
      "[CV] END ...................C=0.1, gamma=0.01, kernel=linear; total time=97.1min\n",
      "[CV] END .....................C=1, gamma=0.1, kernel=linear; total time=101.1min\n",
      "[CV] END ..................C=0.1, gamma=0.001, kernel=linear; total time=97.6min\n",
      "[CV] END ........................C=1, gamma=0.1, kernel=rbf; total time=100.8min\n",
      "[CV] END ...................C=1, gamma=0.001, kernel=linear; total time=109.0min\n",
      "[CV] END .......................C=10, gamma=0.01, kernel=rbf; total time=96.1min\n",
      "[CV] END ..................C=0.1, gamma=0.001, kernel=linear; total time=98.1min\n",
      "[CV] END .....................C=10, gamma=0.001, kernel=rbf; total time=107.1min\n",
      "[CV] END ....................C=1, gamma=0.01, kernel=linear; total time=108.9min\n",
      "[CV] END .......................C=10, gamma=0.01, kernel=rbf; total time=97.0min\n",
      "[CV] END ....................C=0.1, gamma=0.1, kernel=linear; total time=98.0min\n",
      "[CV] END .....................C=10, gamma=0.001, kernel=rbf; total time=108.8min\n",
      "[CV] END .....................C=1, gamma=0.1, kernel=linear; total time=108.6min\n",
      "[CV] END .......................C=10, gamma=0.01, kernel=rbf; total time=99.7min\n",
      "[CV] END ....................C=1, gamma=0.01, kernel=linear; total time=107.8min\n",
      "[CV] END .....................C=10, gamma=0.001, kernel=rbf; total time=104.2min\n",
      "[CV] END ......................C=0.1, gamma=0.1, kernel=rbf; total time=121.3min\n",
      "[CV] END .......................C=10, gamma=0.1, kernel=rbf; total time=139.5min\n",
      "[CV] END .......................C=1, gamma=0.01, kernel=rbf; total time=120.6min\n",
      "[CV] END .......................C=10, gamma=0.1, kernel=rbf; total time=141.6min\n",
      "[CV] END ......................C=0.1, gamma=0.1, kernel=rbf; total time=121.2min\n",
      "[CV] END .......................C=10, gamma=0.1, kernel=rbf; total time=144.3min\n",
      "[CV] END ..................C=0.1, gamma=0.001, kernel=linear; total time=97.8min\n",
      "[CV] END ..................C=10, gamma=0.001, kernel=linear; total time=281.2min\n",
      "[CV] END ...................C=0.1, gamma=0.01, kernel=linear; total time=97.9min\n",
      "[CV] END ..................C=10, gamma=0.001, kernel=linear; total time=282.9min\n",
      "[CV] END ...................C=0.1, gamma=0.01, kernel=linear; total time=97.9min\n",
      "[CV] END ..................C=10, gamma=0.001, kernel=linear; total time=283.2min\n",
      "[CV] END ....................C=1, gamma=0.01, kernel=linear; total time=107.9min\n",
      "[CV] END ...................C=10, gamma=0.01, kernel=linear; total time=277.8min\n",
      "[CV] END ...................C=1, gamma=0.001, kernel=linear; total time=108.4min\n",
      "[CV] END ...................C=10, gamma=0.01, kernel=linear; total time=278.8min\n",
      "[CV] END .....................C=1, gamma=0.1, kernel=linear; total time=108.2min\n",
      "[CV] END ...................C=10, gamma=0.01, kernel=linear; total time=280.9min\n",
      "[CV] END ...................C=1, gamma=0.001, kernel=linear; total time=109.3min\n",
      "[CV] END ....................C=10, gamma=0.1, kernel=linear; total time=280.0min\n",
      "[CV] END .......................C=1, gamma=0.01, kernel=rbf; total time=120.4min\n",
      "[CV] END ....................C=10, gamma=0.1, kernel=linear; total time=274.9min\n",
      "[CV] END .......................C=1, gamma=0.01, kernel=rbf; total time=118.6min\n",
      "[CV] END ....................C=10, gamma=0.1, kernel=linear; total time=277.3min\n",
      "Best parameters found:  {'C': 1, 'gamma': 0.1, 'kernel': 'rbf'}\n",
      "Best cross-validation score: 0.67\n"
     ]
    }
   ],
   "source": [
    "param_grid = {\n",
    "    'C': [0.1, 1, 10],\n",
    "    'kernel': ['linear', 'rbf'],\n",
    "    'gamma': [0.001, 0.01, 0.1]  # gamma is relevant for 'rbf' kernel\n",
    "}\n",
    "\n",
    "svm_model = SVC()\n",
    "\n",
    "grid_search = GridSearchCV(estimator=svm_model, param_grid=param_grid, cv=3, verbose=2, n_jobs=-1)\n",
    "\n",
    "grid_search.fit(X_train, y_train)"
   ]
  },
  {
   "cell_type": "code",
   "execution_count": 13,
   "id": "e57a0be1-15b6-435c-ab99-9e3c60d3786f",
   "metadata": {},
   "outputs": [
    {
     "name": "stdout",
     "output_type": "stream",
     "text": [
      "Best parameters found:  {'C': 1, 'gamma': 0.1, 'kernel': 'rbf'}\n",
      "Best cross-validation score: 0.67\n"
     ]
    }
   ],
   "source": [
    "# Print the best parameters and best score\n",
    "print(\"Best parameters found: \", grid_search.best_params_)\n",
    "print(\"Best cross-validation score: {:.2f}\".format(grid_search.best_score_))"
   ]
  },
  {
   "cell_type": "code",
   "execution_count": 15,
   "id": "a4d0316f-ada5-4f89-a4ee-d893927ca28d",
   "metadata": {
    "editable": true,
    "slideshow": {
     "slide_type": ""
    },
    "tags": []
   },
   "outputs": [
    {
     "name": "stdout",
     "output_type": "stream",
     "text": [
      "CPU times: user 37min 15s, sys: 4.27 s, total: 37min 19s\n",
      "Wall time: 37min 28s\n"
     ]
    },
    {
     "data": {
      "text/html": [
       "<style>#sk-container-id-2 {\n",
       "  /* Definition of color scheme common for light and dark mode */\n",
       "  --sklearn-color-text: black;\n",
       "  --sklearn-color-line: gray;\n",
       "  /* Definition of color scheme for unfitted estimators */\n",
       "  --sklearn-color-unfitted-level-0: #fff5e6;\n",
       "  --sklearn-color-unfitted-level-1: #f6e4d2;\n",
       "  --sklearn-color-unfitted-level-2: #ffe0b3;\n",
       "  --sklearn-color-unfitted-level-3: chocolate;\n",
       "  /* Definition of color scheme for fitted estimators */\n",
       "  --sklearn-color-fitted-level-0: #f0f8ff;\n",
       "  --sklearn-color-fitted-level-1: #d4ebff;\n",
       "  --sklearn-color-fitted-level-2: #b3dbfd;\n",
       "  --sklearn-color-fitted-level-3: cornflowerblue;\n",
       "\n",
       "  /* Specific color for light theme */\n",
       "  --sklearn-color-text-on-default-background: var(--sg-text-color, var(--theme-code-foreground, var(--jp-content-font-color1, black)));\n",
       "  --sklearn-color-background: var(--sg-background-color, var(--theme-background, var(--jp-layout-color0, white)));\n",
       "  --sklearn-color-border-box: var(--sg-text-color, var(--theme-code-foreground, var(--jp-content-font-color1, black)));\n",
       "  --sklearn-color-icon: #696969;\n",
       "\n",
       "  @media (prefers-color-scheme: dark) {\n",
       "    /* Redefinition of color scheme for dark theme */\n",
       "    --sklearn-color-text-on-default-background: var(--sg-text-color, var(--theme-code-foreground, var(--jp-content-font-color1, white)));\n",
       "    --sklearn-color-background: var(--sg-background-color, var(--theme-background, var(--jp-layout-color0, #111)));\n",
       "    --sklearn-color-border-box: var(--sg-text-color, var(--theme-code-foreground, var(--jp-content-font-color1, white)));\n",
       "    --sklearn-color-icon: #878787;\n",
       "  }\n",
       "}\n",
       "\n",
       "#sk-container-id-2 {\n",
       "  color: var(--sklearn-color-text);\n",
       "}\n",
       "\n",
       "#sk-container-id-2 pre {\n",
       "  padding: 0;\n",
       "}\n",
       "\n",
       "#sk-container-id-2 input.sk-hidden--visually {\n",
       "  border: 0;\n",
       "  clip: rect(1px 1px 1px 1px);\n",
       "  clip: rect(1px, 1px, 1px, 1px);\n",
       "  height: 1px;\n",
       "  margin: -1px;\n",
       "  overflow: hidden;\n",
       "  padding: 0;\n",
       "  position: absolute;\n",
       "  width: 1px;\n",
       "}\n",
       "\n",
       "#sk-container-id-2 div.sk-dashed-wrapped {\n",
       "  border: 1px dashed var(--sklearn-color-line);\n",
       "  margin: 0 0.4em 0.5em 0.4em;\n",
       "  box-sizing: border-box;\n",
       "  padding-bottom: 0.4em;\n",
       "  background-color: var(--sklearn-color-background);\n",
       "}\n",
       "\n",
       "#sk-container-id-2 div.sk-container {\n",
       "  /* jupyter's `normalize.less` sets `[hidden] { display: none; }`\n",
       "     but bootstrap.min.css set `[hidden] { display: none !important; }`\n",
       "     so we also need the `!important` here to be able to override the\n",
       "     default hidden behavior on the sphinx rendered scikit-learn.org.\n",
       "     See: https://github.com/scikit-learn/scikit-learn/issues/21755 */\n",
       "  display: inline-block !important;\n",
       "  position: relative;\n",
       "}\n",
       "\n",
       "#sk-container-id-2 div.sk-text-repr-fallback {\n",
       "  display: none;\n",
       "}\n",
       "\n",
       "div.sk-parallel-item,\n",
       "div.sk-serial,\n",
       "div.sk-item {\n",
       "  /* draw centered vertical line to link estimators */\n",
       "  background-image: linear-gradient(var(--sklearn-color-text-on-default-background), var(--sklearn-color-text-on-default-background));\n",
       "  background-size: 2px 100%;\n",
       "  background-repeat: no-repeat;\n",
       "  background-position: center center;\n",
       "}\n",
       "\n",
       "/* Parallel-specific style estimator block */\n",
       "\n",
       "#sk-container-id-2 div.sk-parallel-item::after {\n",
       "  content: \"\";\n",
       "  width: 100%;\n",
       "  border-bottom: 2px solid var(--sklearn-color-text-on-default-background);\n",
       "  flex-grow: 1;\n",
       "}\n",
       "\n",
       "#sk-container-id-2 div.sk-parallel {\n",
       "  display: flex;\n",
       "  align-items: stretch;\n",
       "  justify-content: center;\n",
       "  background-color: var(--sklearn-color-background);\n",
       "  position: relative;\n",
       "}\n",
       "\n",
       "#sk-container-id-2 div.sk-parallel-item {\n",
       "  display: flex;\n",
       "  flex-direction: column;\n",
       "}\n",
       "\n",
       "#sk-container-id-2 div.sk-parallel-item:first-child::after {\n",
       "  align-self: flex-end;\n",
       "  width: 50%;\n",
       "}\n",
       "\n",
       "#sk-container-id-2 div.sk-parallel-item:last-child::after {\n",
       "  align-self: flex-start;\n",
       "  width: 50%;\n",
       "}\n",
       "\n",
       "#sk-container-id-2 div.sk-parallel-item:only-child::after {\n",
       "  width: 0;\n",
       "}\n",
       "\n",
       "/* Serial-specific style estimator block */\n",
       "\n",
       "#sk-container-id-2 div.sk-serial {\n",
       "  display: flex;\n",
       "  flex-direction: column;\n",
       "  align-items: center;\n",
       "  background-color: var(--sklearn-color-background);\n",
       "  padding-right: 1em;\n",
       "  padding-left: 1em;\n",
       "}\n",
       "\n",
       "\n",
       "/* Toggleable style: style used for estimator/Pipeline/ColumnTransformer box that is\n",
       "clickable and can be expanded/collapsed.\n",
       "- Pipeline and ColumnTransformer use this feature and define the default style\n",
       "- Estimators will overwrite some part of the style using the `sk-estimator` class\n",
       "*/\n",
       "\n",
       "/* Pipeline and ColumnTransformer style (default) */\n",
       "\n",
       "#sk-container-id-2 div.sk-toggleable {\n",
       "  /* Default theme specific background. It is overwritten whether we have a\n",
       "  specific estimator or a Pipeline/ColumnTransformer */\n",
       "  background-color: var(--sklearn-color-background);\n",
       "}\n",
       "\n",
       "/* Toggleable label */\n",
       "#sk-container-id-2 label.sk-toggleable__label {\n",
       "  cursor: pointer;\n",
       "  display: block;\n",
       "  width: 100%;\n",
       "  margin-bottom: 0;\n",
       "  padding: 0.5em;\n",
       "  box-sizing: border-box;\n",
       "  text-align: center;\n",
       "}\n",
       "\n",
       "#sk-container-id-2 label.sk-toggleable__label-arrow:before {\n",
       "  /* Arrow on the left of the label */\n",
       "  content: \"▸\";\n",
       "  float: left;\n",
       "  margin-right: 0.25em;\n",
       "  color: var(--sklearn-color-icon);\n",
       "}\n",
       "\n",
       "#sk-container-id-2 label.sk-toggleable__label-arrow:hover:before {\n",
       "  color: var(--sklearn-color-text);\n",
       "}\n",
       "\n",
       "/* Toggleable content - dropdown */\n",
       "\n",
       "#sk-container-id-2 div.sk-toggleable__content {\n",
       "  max-height: 0;\n",
       "  max-width: 0;\n",
       "  overflow: hidden;\n",
       "  text-align: left;\n",
       "  /* unfitted */\n",
       "  background-color: var(--sklearn-color-unfitted-level-0);\n",
       "}\n",
       "\n",
       "#sk-container-id-2 div.sk-toggleable__content.fitted {\n",
       "  /* fitted */\n",
       "  background-color: var(--sklearn-color-fitted-level-0);\n",
       "}\n",
       "\n",
       "#sk-container-id-2 div.sk-toggleable__content pre {\n",
       "  margin: 0.2em;\n",
       "  border-radius: 0.25em;\n",
       "  color: var(--sklearn-color-text);\n",
       "  /* unfitted */\n",
       "  background-color: var(--sklearn-color-unfitted-level-0);\n",
       "}\n",
       "\n",
       "#sk-container-id-2 div.sk-toggleable__content.fitted pre {\n",
       "  /* unfitted */\n",
       "  background-color: var(--sklearn-color-fitted-level-0);\n",
       "}\n",
       "\n",
       "#sk-container-id-2 input.sk-toggleable__control:checked~div.sk-toggleable__content {\n",
       "  /* Expand drop-down */\n",
       "  max-height: 200px;\n",
       "  max-width: 100%;\n",
       "  overflow: auto;\n",
       "}\n",
       "\n",
       "#sk-container-id-2 input.sk-toggleable__control:checked~label.sk-toggleable__label-arrow:before {\n",
       "  content: \"▾\";\n",
       "}\n",
       "\n",
       "/* Pipeline/ColumnTransformer-specific style */\n",
       "\n",
       "#sk-container-id-2 div.sk-label input.sk-toggleable__control:checked~label.sk-toggleable__label {\n",
       "  color: var(--sklearn-color-text);\n",
       "  background-color: var(--sklearn-color-unfitted-level-2);\n",
       "}\n",
       "\n",
       "#sk-container-id-2 div.sk-label.fitted input.sk-toggleable__control:checked~label.sk-toggleable__label {\n",
       "  background-color: var(--sklearn-color-fitted-level-2);\n",
       "}\n",
       "\n",
       "/* Estimator-specific style */\n",
       "\n",
       "/* Colorize estimator box */\n",
       "#sk-container-id-2 div.sk-estimator input.sk-toggleable__control:checked~label.sk-toggleable__label {\n",
       "  /* unfitted */\n",
       "  background-color: var(--sklearn-color-unfitted-level-2);\n",
       "}\n",
       "\n",
       "#sk-container-id-2 div.sk-estimator.fitted input.sk-toggleable__control:checked~label.sk-toggleable__label {\n",
       "  /* fitted */\n",
       "  background-color: var(--sklearn-color-fitted-level-2);\n",
       "}\n",
       "\n",
       "#sk-container-id-2 div.sk-label label.sk-toggleable__label,\n",
       "#sk-container-id-2 div.sk-label label {\n",
       "  /* The background is the default theme color */\n",
       "  color: var(--sklearn-color-text-on-default-background);\n",
       "}\n",
       "\n",
       "/* On hover, darken the color of the background */\n",
       "#sk-container-id-2 div.sk-label:hover label.sk-toggleable__label {\n",
       "  color: var(--sklearn-color-text);\n",
       "  background-color: var(--sklearn-color-unfitted-level-2);\n",
       "}\n",
       "\n",
       "/* Label box, darken color on hover, fitted */\n",
       "#sk-container-id-2 div.sk-label.fitted:hover label.sk-toggleable__label.fitted {\n",
       "  color: var(--sklearn-color-text);\n",
       "  background-color: var(--sklearn-color-fitted-level-2);\n",
       "}\n",
       "\n",
       "/* Estimator label */\n",
       "\n",
       "#sk-container-id-2 div.sk-label label {\n",
       "  font-family: monospace;\n",
       "  font-weight: bold;\n",
       "  display: inline-block;\n",
       "  line-height: 1.2em;\n",
       "}\n",
       "\n",
       "#sk-container-id-2 div.sk-label-container {\n",
       "  text-align: center;\n",
       "}\n",
       "\n",
       "/* Estimator-specific */\n",
       "#sk-container-id-2 div.sk-estimator {\n",
       "  font-family: monospace;\n",
       "  border: 1px dotted var(--sklearn-color-border-box);\n",
       "  border-radius: 0.25em;\n",
       "  box-sizing: border-box;\n",
       "  margin-bottom: 0.5em;\n",
       "  /* unfitted */\n",
       "  background-color: var(--sklearn-color-unfitted-level-0);\n",
       "}\n",
       "\n",
       "#sk-container-id-2 div.sk-estimator.fitted {\n",
       "  /* fitted */\n",
       "  background-color: var(--sklearn-color-fitted-level-0);\n",
       "}\n",
       "\n",
       "/* on hover */\n",
       "#sk-container-id-2 div.sk-estimator:hover {\n",
       "  /* unfitted */\n",
       "  background-color: var(--sklearn-color-unfitted-level-2);\n",
       "}\n",
       "\n",
       "#sk-container-id-2 div.sk-estimator.fitted:hover {\n",
       "  /* fitted */\n",
       "  background-color: var(--sklearn-color-fitted-level-2);\n",
       "}\n",
       "\n",
       "/* Specification for estimator info (e.g. \"i\" and \"?\") */\n",
       "\n",
       "/* Common style for \"i\" and \"?\" */\n",
       "\n",
       ".sk-estimator-doc-link,\n",
       "a:link.sk-estimator-doc-link,\n",
       "a:visited.sk-estimator-doc-link {\n",
       "  float: right;\n",
       "  font-size: smaller;\n",
       "  line-height: 1em;\n",
       "  font-family: monospace;\n",
       "  background-color: var(--sklearn-color-background);\n",
       "  border-radius: 1em;\n",
       "  height: 1em;\n",
       "  width: 1em;\n",
       "  text-decoration: none !important;\n",
       "  margin-left: 1ex;\n",
       "  /* unfitted */\n",
       "  border: var(--sklearn-color-unfitted-level-1) 1pt solid;\n",
       "  color: var(--sklearn-color-unfitted-level-1);\n",
       "}\n",
       "\n",
       ".sk-estimator-doc-link.fitted,\n",
       "a:link.sk-estimator-doc-link.fitted,\n",
       "a:visited.sk-estimator-doc-link.fitted {\n",
       "  /* fitted */\n",
       "  border: var(--sklearn-color-fitted-level-1) 1pt solid;\n",
       "  color: var(--sklearn-color-fitted-level-1);\n",
       "}\n",
       "\n",
       "/* On hover */\n",
       "div.sk-estimator:hover .sk-estimator-doc-link:hover,\n",
       ".sk-estimator-doc-link:hover,\n",
       "div.sk-label-container:hover .sk-estimator-doc-link:hover,\n",
       ".sk-estimator-doc-link:hover {\n",
       "  /* unfitted */\n",
       "  background-color: var(--sklearn-color-unfitted-level-3);\n",
       "  color: var(--sklearn-color-background);\n",
       "  text-decoration: none;\n",
       "}\n",
       "\n",
       "div.sk-estimator.fitted:hover .sk-estimator-doc-link.fitted:hover,\n",
       ".sk-estimator-doc-link.fitted:hover,\n",
       "div.sk-label-container:hover .sk-estimator-doc-link.fitted:hover,\n",
       ".sk-estimator-doc-link.fitted:hover {\n",
       "  /* fitted */\n",
       "  background-color: var(--sklearn-color-fitted-level-3);\n",
       "  color: var(--sklearn-color-background);\n",
       "  text-decoration: none;\n",
       "}\n",
       "\n",
       "/* Span, style for the box shown on hovering the info icon */\n",
       ".sk-estimator-doc-link span {\n",
       "  display: none;\n",
       "  z-index: 9999;\n",
       "  position: relative;\n",
       "  font-weight: normal;\n",
       "  right: .2ex;\n",
       "  padding: .5ex;\n",
       "  margin: .5ex;\n",
       "  width: min-content;\n",
       "  min-width: 20ex;\n",
       "  max-width: 50ex;\n",
       "  color: var(--sklearn-color-text);\n",
       "  box-shadow: 2pt 2pt 4pt #999;\n",
       "  /* unfitted */\n",
       "  background: var(--sklearn-color-unfitted-level-0);\n",
       "  border: .5pt solid var(--sklearn-color-unfitted-level-3);\n",
       "}\n",
       "\n",
       ".sk-estimator-doc-link.fitted span {\n",
       "  /* fitted */\n",
       "  background: var(--sklearn-color-fitted-level-0);\n",
       "  border: var(--sklearn-color-fitted-level-3);\n",
       "}\n",
       "\n",
       ".sk-estimator-doc-link:hover span {\n",
       "  display: block;\n",
       "}\n",
       "\n",
       "/* \"?\"-specific style due to the `<a>` HTML tag */\n",
       "\n",
       "#sk-container-id-2 a.estimator_doc_link {\n",
       "  float: right;\n",
       "  font-size: 1rem;\n",
       "  line-height: 1em;\n",
       "  font-family: monospace;\n",
       "  background-color: var(--sklearn-color-background);\n",
       "  border-radius: 1rem;\n",
       "  height: 1rem;\n",
       "  width: 1rem;\n",
       "  text-decoration: none;\n",
       "  /* unfitted */\n",
       "  color: var(--sklearn-color-unfitted-level-1);\n",
       "  border: var(--sklearn-color-unfitted-level-1) 1pt solid;\n",
       "}\n",
       "\n",
       "#sk-container-id-2 a.estimator_doc_link.fitted {\n",
       "  /* fitted */\n",
       "  border: var(--sklearn-color-fitted-level-1) 1pt solid;\n",
       "  color: var(--sklearn-color-fitted-level-1);\n",
       "}\n",
       "\n",
       "/* On hover */\n",
       "#sk-container-id-2 a.estimator_doc_link:hover {\n",
       "  /* unfitted */\n",
       "  background-color: var(--sklearn-color-unfitted-level-3);\n",
       "  color: var(--sklearn-color-background);\n",
       "  text-decoration: none;\n",
       "}\n",
       "\n",
       "#sk-container-id-2 a.estimator_doc_link.fitted:hover {\n",
       "  /* fitted */\n",
       "  background-color: var(--sklearn-color-fitted-level-3);\n",
       "}\n",
       "</style><div id=\"sk-container-id-2\" class=\"sk-top-container\"><div class=\"sk-text-repr-fallback\"><pre>SVC(C=1, gamma=0.1)</pre><b>In a Jupyter environment, please rerun this cell to show the HTML representation or trust the notebook. <br />On GitHub, the HTML representation is unable to render, please try loading this page with nbviewer.org.</b></div><div class=\"sk-container\" hidden><div class=\"sk-item\"><div class=\"sk-estimator fitted sk-toggleable\"><input class=\"sk-toggleable__control sk-hidden--visually\" id=\"sk-estimator-id-2\" type=\"checkbox\" checked><label for=\"sk-estimator-id-2\" class=\"sk-toggleable__label fitted sk-toggleable__label-arrow fitted\">&nbsp;&nbsp;SVC<a class=\"sk-estimator-doc-link fitted\" rel=\"noreferrer\" target=\"_blank\" href=\"https://scikit-learn.org/1.4/modules/generated/sklearn.svm.SVC.html\">?<span>Documentation for SVC</span></a><span class=\"sk-estimator-doc-link fitted\">i<span>Fitted</span></span></label><div class=\"sk-toggleable__content fitted\"><pre>SVC(C=1, gamma=0.1)</pre></div> </div></div></div></div>"
      ],
      "text/plain": [
       "SVC(C=1, gamma=0.1)"
      ]
     },
     "execution_count": 15,
     "metadata": {},
     "output_type": "execute_result"
    }
   ],
   "source": [
    "%%time \n",
    "best_svm_model = SVC(C=1, kernel='rbf', gamma=0.1)\n",
    "best_svm_model.fit(X_train, y_train)"
   ]
  },
  {
   "cell_type": "markdown",
   "id": "9b15329a-2df4-42e3-8f39-0cb069e87f16",
   "metadata": {},
   "source": [
    "### 1.4 Evaluate the model"
   ]
  },
  {
   "cell_type": "code",
   "execution_count": 17,
   "id": "1951f096-8238-4ec5-836b-829ffe3d1fbd",
   "metadata": {},
   "outputs": [
    {
     "name": "stdout",
     "output_type": "stream",
     "text": [
      "              precision    recall  f1-score   support\n",
      "\n",
      "          -1       0.41      0.88      0.56     17993\n",
      "           0       0.00      0.00      0.00     12600\n",
      "           1       0.66      0.38      0.48     20424\n",
      "\n",
      "    accuracy                           0.46     51017\n",
      "   macro avg       0.35      0.42      0.35     51017\n",
      "weighted avg       0.41      0.46      0.39     51017\n",
      "\n",
      "CPU times: user 3min 40s, sys: 146 ms, total: 3min 40s\n",
      "Wall time: 3min 41s\n"
     ]
    },
    {
     "name": "stderr",
     "output_type": "stream",
     "text": [
      "/opt/conda/envs/dspt/lib/python3.11/site-packages/sklearn/metrics/_classification.py:1509: UndefinedMetricWarning: Precision is ill-defined and being set to 0.0 in labels with no predicted samples. Use `zero_division` parameter to control this behavior.\n",
      "  _warn_prf(average, modifier, f\"{metric.capitalize()} is\", len(result))\n",
      "/opt/conda/envs/dspt/lib/python3.11/site-packages/sklearn/metrics/_classification.py:1509: UndefinedMetricWarning: Precision is ill-defined and being set to 0.0 in labels with no predicted samples. Use `zero_division` parameter to control this behavior.\n",
      "  _warn_prf(average, modifier, f\"{metric.capitalize()} is\", len(result))\n",
      "/opt/conda/envs/dspt/lib/python3.11/site-packages/sklearn/metrics/_classification.py:1509: UndefinedMetricWarning: Precision is ill-defined and being set to 0.0 in labels with no predicted samples. Use `zero_division` parameter to control this behavior.\n",
      "  _warn_prf(average, modifier, f\"{metric.capitalize()} is\", len(result))\n"
     ]
    }
   ],
   "source": [
    "%%time\n",
    "y_pred = best_svm_model.predict(X_test)\n",
    "print(classification_report(y_test, y_pred))"
   ]
  },
  {
   "cell_type": "code",
   "execution_count": 18,
   "id": "404601b3-b515-453d-8073-7315e29c1ac4",
   "metadata": {},
   "outputs": [
    {
     "name": "stdout",
     "output_type": "stream",
     "text": [
      "           Predicted -1  Predicted 0  Predicted 1\n",
      "Actual -1         15906            0         2087\n",
      "Actual 0          10634            0         1966\n",
      "Actual 1          12662            0         7762\n"
     ]
    },
    {
     "data": {
      "image/png": "[encoded data removed]",
      "text/plain": [
       "<Figure size 640x480 with 2 Axes>"
      ]
     },
     "metadata": {},
     "output_type": "display_data"
    }
   ],
   "source": [
    "# Confusion matrix\n",
    "cm = confusion_matrix(y_test, y_pred)\n",
    "cm_df = pd.DataFrame(cm, index=['Actual -1', 'Actual 0', 'Actual 1'], columns=['Predicted -1', 'Predicted 0', 'Predicted 1'])\n",
    "print(cm_df)\n",
    "\n",
    "ConfusionMatrixDisplay(confusion_matrix=cm).plot()\n",
    "plt.show()"
   ]
  },
  {
   "cell_type": "markdown",
   "id": "4c6dc540-2420-4b1f-b671-5823d5c86637",
   "metadata": {},
   "source": [
    "## 2. Let's try to look for most optimal hyperparams\n",
    "We simply take a few options of hyperparams and see what combination gives best accuracy.\n",
    "\n",
    "Hyperparams:\n",
    "- tfidf__max_df: Controls the removal of very frequent terms.\n",
    "- tfidf__ngram_range: Controls the inclusion of unigrams and bigrams.\n",
    "- nb__alpha: Controls the amount of smoothing in the Naive Bayes classifier.\n",
    "\n",
    "Lookup takes 2x2x3=12 times longer than training of the single model.\n",
    "So expect this code to run around 10 minutes."
   ]
  },
  {
   "cell_type": "markdown",
   "id": "84f41bd5-ed6e-4548-bea4-e9ffe916ee0d",
   "metadata": {},
   "source": [
    "### 2.1 Create pipeline for hyperparameters search"
   ]
  },
  {
   "cell_type": "code",
   "execution_count": null,
   "id": "614813e1-3723-48a4-9806-a87bb0a04699",
   "metadata": {},
   "outputs": [],
   "source": [
    "pipeline = Pipeline([\n",
    "    ('tfidf', TfidfVectorizer()),\n",
    "    ('nb', MultinomialNB())\n",
    "])\n",
    "\n",
    "param_grid = {\n",
    "    'tfidf__max_df': [0.75, 1.0],\n",
    "    'tfidf__ngram_range': [(1, 1), (1, 2)],\n",
    "    'nb__alpha': [0.01, 0.1, 1]\n",
    "}\n",
    "\n",
    "grid_search = GridSearchCV(pipeline, param_grid, cv=5, scoring='accuracy')"
   ]
  },
  {
   "cell_type": "markdown",
   "id": "2ce16cd5-43d7-438f-883c-27c943c1d899",
   "metadata": {},
   "source": [
    "### 2.2 Search for most optimal hyperparams"
   ]
  },
  {
   "cell_type": "code",
   "execution_count": null,
   "id": "5dc9a883-6c67-4131-950d-10e967fe370c",
   "metadata": {},
   "outputs": [],
   "source": [
    "grid_search.fit(X_train, y_train)"
   ]
  },
  {
   "cell_type": "code",
   "execution_count": null,
   "id": "ec27e06d-9907-4352-afb6-8745fb90ed4f",
   "metadata": {},
   "outputs": [],
   "source": [
    "# Print best parameters\n",
    "print(grid_search.best_params_)"
   ]
  },
  {
   "cell_type": "markdown",
   "id": "c1dfe447-d551-4df1-b9a0-44479dc9604f",
   "metadata": {},
   "source": [
    "### 2.3 Predict the results using model with most optimal hyperparams"
   ]
  },
  {
   "cell_type": "code",
   "execution_count": null,
   "id": "ea4349fb-3b4b-4d50-aa72-1863aa191078",
   "metadata": {},
   "outputs": [],
   "source": [
    "best_params = grid_search.best_params_\n",
    "\n",
    "# Create a new pipeline with the best parameters\n",
    "final_pipeline = Pipeline([\n",
    "    ('tfidf', TfidfVectorizer(max_df=best_params['tfidf__max_df'], \n",
    "                              ngram_range=best_params['tfidf__ngram_range'])),\n",
    "    ('nb', MultinomialNB(alpha=best_params['nb__alpha']))\n",
    "])\n",
    "\n",
    "# Fit the final model with the best parameters on the entire training data\n",
    "final_pipeline.fit(X_train, y_train)\n",
    "\n",
    "# Now you can use final_pipeline to predict new data\n",
    "y_pred = final_pipeline.predict(X_test)"
   ]
  },
  {
   "cell_type": "markdown",
   "id": "96fb2f1b-5287-4cb9-a539-e88f2113b0a8",
   "metadata": {},
   "source": [
    "### 2.4 Evaluate the model"
   ]
  },
  {
   "cell_type": "code",
   "execution_count": null,
   "id": "d646d5a6-f0a6-4493-b74a-5ab0436aa391",
   "metadata": {},
   "outputs": [],
   "source": [
    "print(classification_report(y_test, y_pred))"
   ]
  },
  {
   "cell_type": "code",
   "execution_count": null,
   "id": "75381a02-5fcf-4ca8-baa7-0c1756da9f30",
   "metadata": {},
   "outputs": [],
   "source": [
    "# Confusion matrix\n",
    "cm = confusion_matrix(y_test, y_pred)\n",
    "cm_df = pd.DataFrame(cm, index=['Actual -1', 'Actual 0', 'Actual 1'], columns=['Predicted -1', 'Predicted 0', 'Predicted 1'])\n",
    "print(cm_df)\n",
    "\n",
    "ConfusionMatrixDisplay(confusion_matrix=cm).plot()\n",
    "plt.show()"
   ]
  },
  {
   "cell_type": "markdown",
   "id": "e8539043-c3a2-471e-a55b-770e3ec6f6e4",
   "metadata": {},
   "source": [
    "## 3. Add columns LengthCharacters and HasEmoji to the model"
   ]
  },
  {
   "cell_type": "markdown",
   "id": "18e10751-f878-456f-aaa5-59f05522a232",
   "metadata": {},
   "source": [
    "### 3.1 Create column extractor"
   ]
  },
  {
   "cell_type": "code",
   "execution_count": null,
   "id": "d1210305-e50c-4a6e-ad1e-5c6e95fe098d",
   "metadata": {},
   "outputs": [],
   "source": [
    "class ColumnExtractor(BaseEstimator, TransformerMixin):\n",
    "    def __init__(self, column_name):\n",
    "        self.column_name = column_name\n",
    "    \n",
    "    def fit(self, X, y=None):\n",
    "        return self\n",
    "    \n",
    "    def transform(self, X):\n",
    "        return X[self.column_name].values.reshape(-1, 1)"
   ]
  },
  {
   "cell_type": "markdown",
   "id": "840949c2-6132-4761-a404-ce6c7fb30dde",
   "metadata": {},
   "source": [
    "### 3.2 ColumnTransformer will allow us to get values from extra columns"
   ]
  },
  {
   "cell_type": "code",
   "execution_count": null,
   "id": "c5ff7ade-a0b7-4556-96d8-68bb0114790d",
   "metadata": {},
   "outputs": [],
   "source": [
    "preprocessor = ColumnTransformer(\n",
    "    transformers=[\n",
    "        ('tfidf', TfidfVectorizer(max_df=0.75, ngram_range=(1,2)), 'cleaned_text'),\n",
    "        ('has_emoji', ColumnExtractor('HasEmoji'), ['HasEmoji']),\n",
    "        ('length_characters', ColumnExtractor('LengthCharacters'), ['LengthCharacters'])\n",
    "    ]\n",
    ")"
   ]
  },
  {
   "cell_type": "markdown",
   "id": "e8395271-3fba-4680-a8e5-6862cd009d28",
   "metadata": {},
   "source": [
    "### 3.3 Predict"
   ]
  },
  {
   "cell_type": "code",
   "execution_count": null,
   "id": "bb573b71-b3e3-46d8-bcfd-e85ad3582b29",
   "metadata": {},
   "outputs": [],
   "source": [
    "X = df[['cleaned_text', 'HasEmoji', 'LengthCharacters']]\n",
    "y = df['LabelMapped']\n",
    "X_train, X_test, y_train, y_test = train_test_split(X, y, test_size=0.2, random_state=42)\n",
    "\n",
    "# Define the final pipeline\n",
    "pipeline = Pipeline([\n",
    "    ('features', preprocessor),\n",
    "    ('nb', MultinomialNB(alpha=0.1))\n",
    "])\n",
    "\n",
    "# Fit the pipeline on the training data\n",
    "pipeline.fit(X_train, y_train)\n",
    "\n",
    "# Predict and evaluate on test data\n",
    "y_pred = pipeline.predict(X_test)"
   ]
  },
  {
   "cell_type": "markdown",
   "id": "356a1f28-2927-484e-b74c-1a9279189313",
   "metadata": {},
   "source": [
    "### 3.4 Evaluate "
   ]
  },
  {
   "cell_type": "code",
   "execution_count": null,
   "id": "547a051f-492a-408e-8b52-f0dea20e87f9",
   "metadata": {},
   "outputs": [],
   "source": [
    "print(classification_report(y_test, y_pred))"
   ]
  },
  {
   "cell_type": "code",
   "execution_count": null,
   "id": "d6829c22-c34f-401a-a12d-be7cf16d722a",
   "metadata": {},
   "outputs": [],
   "source": [
    "# Confusion matrix\n",
    "cm = confusion_matrix(y_test, y_pred)\n",
    "cm_df = pd.DataFrame(cm, index=['Actual -1', 'Actual 0', 'Actual 1'], columns=['Predicted -1', 'Predicted 0', 'Predicted 1'])\n",
    "print(cm_df)\n",
    "\n",
    "ConfusionMatrixDisplay(confusion_matrix=cm).plot()\n",
    "plt.show()"
   ]
  }
 ],
 "metadata": {
  "kernelspec": {
   "display_name": "DSPT",
   "language": "python",
   "name": "dspt"
  },
  "language_info": {
   "codemirror_mode": {
    "name": "ipython",
    "version": 3
   },
   "file_extension": ".py",
   "mimetype": "text/x-python",
   "name": "python",
   "nbconvert_exporter": "python",
   "pygments_lexer": "ipython3",
   "version": "3.11.8"
  }
 },
 "nbformat": 4,
 "nbformat_minor": 5
}
