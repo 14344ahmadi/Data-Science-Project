{
 "cells": [
  {
   "cell_type": "code",
   "execution_count": 2,
   "id": "eb2a9343-df5b-42f4-bbb1-c18b9bf09df6",
   "metadata": {},
   "outputs": [],
   "source": [
    "import sqlite3\n",
    "import pandas as pd\n",
    "import re\n",
    "import nltk\n",
    "from nltk.corpus import stopwords\n",
    "from nltk.tokenize import word_tokenize"
   ]
  },
  {
   "cell_type": "markdown",
   "id": "04b27313-4194-4599-b6ab-c03c8b8034e9",
   "metadata": {},
   "source": [
    "# In this notebook we only read, clean and save data as csv. \n",
    "We don't tokenise it because with tokenised column data will take more than 100mb and we will not be able to save it to git.\n",
    "\n",
    "Also because there are multiple ways to tokenise data.\n",
    "\n",
    "So it's up to every separate model training file to tokenise the data."
   ]
  },
  {
   "cell_type": "markdown",
   "id": "9cf03f5f-5bd3-47f8-bcd6-2ee8fc0cbb90",
   "metadata": {},
   "source": [
    "## 1. Read data"
   ]
  },
  {
   "cell_type": "code",
   "execution_count": 3,
   "id": "659766e4-48f0-45ed-b7bd-b8c8efeedbcd",
   "metadata": {},
   "outputs": [],
   "source": [
    "# Connect to the database\n",
    "DB_FILE = '/local/DSPT/data/nlp-data.db'\n",
    "con = sqlite3.connect(DB_FILE)\n",
    "cur = con.cursor()\n",
    "\n",
    "# Define the SQL query\n",
    "QUERY = \"\"\"\n",
    "    SELECT \n",
    "        Documents.DocumentID, \n",
    "        RawTexts.Text, \n",
    "        Labels.NumericValue AS Label, \n",
    "        Labels.Type AS LabelType, \n",
    "        Labels.StringValue AS LabelName,  \n",
    "        Documents.Type AS DocumentType,\n",
    "        RawTexts.LengthCharacters,\n",
    "        RawTexts.HasEmoji\n",
    "    FROM Documents\n",
    "    INNER JOIN RawTexts ON Documents.RawTextID = RawTexts.RawTextID\n",
    "    INNER JOIN Labels ON Documents.LabelID = Labels.LabelID;\n",
    "\"\"\"\n",
    "\n",
    "# Execute the query and load data into a DataFrame\n",
    "reviews = pd.read_sql_query(QUERY, con)\n",
    "con.close()"
   ]
  },
  {
   "cell_type": "code",
   "execution_count": 4,
   "id": "35e9bc73-ad47-45e2-a6e8-8427342f90aa",
   "metadata": {},
   "outputs": [
    {
     "data": {
      "text/html": [
       "<div>\n",
       "<style scoped>\n",
       "    .dataframe tbody tr th:only-of-type {\n",
       "        vertical-align: middle;\n",
       "    }\n",
       "\n",
       "    .dataframe tbody tr th {\n",
       "        vertical-align: top;\n",
       "    }\n",
       "\n",
       "    .dataframe thead th {\n",
       "        text-align: right;\n",
       "    }\n",
       "</style>\n",
       "<table border=\"1\" class=\"dataframe\">\n",
       "  <thead>\n",
       "    <tr style=\"text-align: right;\">\n",
       "      <th></th>\n",
       "      <th>DocumentID</th>\n",
       "      <th>Text</th>\n",
       "      <th>Label</th>\n",
       "      <th>LabelType</th>\n",
       "      <th>LabelName</th>\n",
       "      <th>DocumentType</th>\n",
       "      <th>LengthCharacters</th>\n",
       "      <th>HasEmoji</th>\n",
       "    </tr>\n",
       "  </thead>\n",
       "  <tbody>\n",
       "    <tr>\n",
       "      <th>0</th>\n",
       "      <td>1</td>\n",
       "      <td>Arrived broken. Manufacturer defect. Two of th...</td>\n",
       "      <td>1</td>\n",
       "      <td>StarRating</td>\n",
       "      <td>1 Star</td>\n",
       "      <td>Review</td>\n",
       "      <td>612</td>\n",
       "      <td>0</td>\n",
       "    </tr>\n",
       "    <tr>\n",
       "      <th>1</th>\n",
       "      <td>2</td>\n",
       "      <td>the cabinet dot were all detached from backing...</td>\n",
       "      <td>1</td>\n",
       "      <td>StarRating</td>\n",
       "      <td>1 Star</td>\n",
       "      <td>Review</td>\n",
       "      <td>56</td>\n",
       "      <td>0</td>\n",
       "    </tr>\n",
       "    <tr>\n",
       "      <th>2</th>\n",
       "      <td>3</td>\n",
       "      <td>I received my first order of this product and ...</td>\n",
       "      <td>1</td>\n",
       "      <td>StarRating</td>\n",
       "      <td>1 Star</td>\n",
       "      <td>Review</td>\n",
       "      <td>206</td>\n",
       "      <td>0</td>\n",
       "    </tr>\n",
       "    <tr>\n",
       "      <th>3</th>\n",
       "      <td>4</td>\n",
       "      <td>This product is a piece of shit. Do not buy. D...</td>\n",
       "      <td>1</td>\n",
       "      <td>StarRating</td>\n",
       "      <td>1 Star</td>\n",
       "      <td>Review</td>\n",
       "      <td>145</td>\n",
       "      <td>0</td>\n",
       "    </tr>\n",
       "    <tr>\n",
       "      <th>4</th>\n",
       "      <td>5</td>\n",
       "      <td>went through 3 in one day doesn't fit correct ...</td>\n",
       "      <td>1</td>\n",
       "      <td>StarRating</td>\n",
       "      <td>1 Star</td>\n",
       "      <td>Review</td>\n",
       "      <td>91</td>\n",
       "      <td>0</td>\n",
       "    </tr>\n",
       "    <tr>\n",
       "      <th>...</th>\n",
       "      <td>...</td>\n",
       "      <td>...</td>\n",
       "      <td>...</td>\n",
       "      <td>...</td>\n",
       "      <td>...</td>\n",
       "      <td>...</td>\n",
       "      <td>...</td>\n",
       "      <td>...</td>\n",
       "    </tr>\n",
       "    <tr>\n",
       "      <th>255078</th>\n",
       "      <td>255079</td>\n",
       "      <td>@Racalto_SK ok good to know. Punting at MetLif...</td>\n",
       "      <td>1</td>\n",
       "      <td>Sentiment</td>\n",
       "      <td>Positive</td>\n",
       "      <td>Tweet</td>\n",
       "      <td>94</td>\n",
       "      <td>0</td>\n",
       "    </tr>\n",
       "    <tr>\n",
       "      <th>255079</th>\n",
       "      <td>255080</td>\n",
       "      <td>everyone who sat around me at metlife was so a...</td>\n",
       "      <td>0</td>\n",
       "      <td>Sentiment</td>\n",
       "      <td>Neutral</td>\n",
       "      <td>Tweet</td>\n",
       "      <td>99</td>\n",
       "      <td>0</td>\n",
       "    </tr>\n",
       "    <tr>\n",
       "      <th>255080</th>\n",
       "      <td>255081</td>\n",
       "      <td>what giants or niners fans would wanna go to t...</td>\n",
       "      <td>0</td>\n",
       "      <td>Sentiment</td>\n",
       "      <td>Neutral</td>\n",
       "      <td>Tweet</td>\n",
       "      <td>78</td>\n",
       "      <td>0</td>\n",
       "    </tr>\n",
       "    <tr>\n",
       "      <th>255081</th>\n",
       "      <td>255082</td>\n",
       "      <td>Anybody want a ticket for tomorrow Colombia vs...</td>\n",
       "      <td>1</td>\n",
       "      <td>Sentiment</td>\n",
       "      <td>Positive</td>\n",
       "      <td>Tweet</td>\n",
       "      <td>63</td>\n",
       "      <td>0</td>\n",
       "    </tr>\n",
       "    <tr>\n",
       "      <th>255082</th>\n",
       "      <td>255083</td>\n",
       "      <td>Mendez told me he'd drive me to MetLife on Sun...</td>\n",
       "      <td>0</td>\n",
       "      <td>Sentiment</td>\n",
       "      <td>Neutral</td>\n",
       "      <td>Tweet</td>\n",
       "      <td>88</td>\n",
       "      <td>0</td>\n",
       "    </tr>\n",
       "  </tbody>\n",
       "</table>\n",
       "<p>255083 rows × 8 columns</p>\n",
       "</div>"
      ],
      "text/plain": [
       "        DocumentID                                               Text  Label  \\\n",
       "0                1  Arrived broken. Manufacturer defect. Two of th...      1   \n",
       "1                2  the cabinet dot were all detached from backing...      1   \n",
       "2                3  I received my first order of this product and ...      1   \n",
       "3                4  This product is a piece of shit. Do not buy. D...      1   \n",
       "4                5  went through 3 in one day doesn't fit correct ...      1   \n",
       "...            ...                                                ...    ...   \n",
       "255078      255079  @Racalto_SK ok good to know. Punting at MetLif...      1   \n",
       "255079      255080  everyone who sat around me at metlife was so a...      0   \n",
       "255080      255081  what giants or niners fans would wanna go to t...      0   \n",
       "255081      255082  Anybody want a ticket for tomorrow Colombia vs...      1   \n",
       "255082      255083  Mendez told me he'd drive me to MetLife on Sun...      0   \n",
       "\n",
       "         LabelType LabelName DocumentType  LengthCharacters  HasEmoji  \n",
       "0       StarRating    1 Star       Review               612         0  \n",
       "1       StarRating    1 Star       Review                56         0  \n",
       "2       StarRating    1 Star       Review               206         0  \n",
       "3       StarRating    1 Star       Review               145         0  \n",
       "4       StarRating    1 Star       Review                91         0  \n",
       "...            ...       ...          ...               ...       ...  \n",
       "255078   Sentiment  Positive        Tweet                94         0  \n",
       "255079   Sentiment   Neutral        Tweet                99         0  \n",
       "255080   Sentiment   Neutral        Tweet                78         0  \n",
       "255081   Sentiment  Positive        Tweet                63         0  \n",
       "255082   Sentiment   Neutral        Tweet                88         0  \n",
       "\n",
       "[255083 rows x 8 columns]"
      ]
     },
     "execution_count": 4,
     "metadata": {},
     "output_type": "execute_result"
    }
   ],
   "source": [
    "reviews"
   ]
  },
  {
   "cell_type": "markdown",
   "id": "42944c3c-e225-4ea3-a732-77809662ec49",
   "metadata": {},
   "source": [
    "## 2. Clean data"
   ]
  },
  {
   "cell_type": "code",
   "execution_count": 36,
   "id": "6b6966e8-9a1d-4dc8-9cf3-f9c7dcde186f",
   "metadata": {},
   "outputs": [],
   "source": [
    "# Function to clean text\n",
    "def clean_text(text):\n",
    "    text = re.sub(r'<.*?>', '', text)  # Remove HTML tags\n",
    "    text = text.lower()  # Convert to lowercase\n",
    "    text = re.sub(r'\\d+', '', text)  # Remove digits\n",
    "    text = re.sub(r'[^\\w\\s]', '', text)  # Remove punctuation\n",
    "    text = re.sub(r'\\s+', ' ', text).strip()  # Remove extra spaces\n",
    "    text = re.sub(r'_', '', text)\n",
    "    return text\n",
    "\n",
    "# Clean the text data\n",
    "reviews['cleaned_text'] = reviews['Text'].apply(clean_text)\n",
    "reviews = reviews[reviews['cleaned_text'] != '']\n",
    "\n",
    "# Drow rows that have None in cleaned_text column\n",
    "reviews = reviews.dropna(subset=['cleaned_text'])"
   ]
  },
  {
   "cell_type": "markdown",
   "id": "c4888312-afbf-48c1-a623-227d9f9bcc0b",
   "metadata": {},
   "source": [
    "### 3. Map amazon rating to -1/0/1"
   ]
  },
  {
   "cell_type": "code",
   "execution_count": 38,
   "id": "79756025-e586-483c-b328-96a83fc33419",
   "metadata": {},
   "outputs": [],
   "source": [
    "def map_amazon_rating(rating):\n",
    "    if rating <= 2:\n",
    "        return -1\n",
    "    elif rating == 3:\n",
    "        return 0\n",
    "    else:\n",
    "        return 1\n",
    "\n",
    "reviews['LabelMapped'] = reviews.apply(lambda row: map_amazon_rating(row[\"Label\"]) if row['LabelType'] == 'StarRating' else row[\"Label\"], axis=1)"
   ]
  },
  {
   "cell_type": "code",
   "execution_count": 39,
   "id": "c3435912-c71f-4972-8975-a76329ef15b2",
   "metadata": {},
   "outputs": [
    {
     "data": {
      "text/plain": [
       "array([-1,  0,  1])"
      ]
     },
     "execution_count": 39,
     "metadata": {},
     "output_type": "execute_result"
    }
   ],
   "source": [
    "reviews['LabelMapped'].unique()"
   ]
  },
  {
   "cell_type": "markdown",
   "id": "10ced69f-0ffb-4e26-9388-9b1dbadcb778",
   "metadata": {},
   "source": [
    "### 4. Save to csv"
   ]
  },
  {
   "cell_type": "code",
   "execution_count": 40,
   "id": "f01e72d2-1085-4b30-af28-cb899d86b61e",
   "metadata": {},
   "outputs": [],
   "source": [
    "reviews.to_csv('data/prepared_data.csv', index=False)"
   ]
  }
 ],
 "metadata": {
  "kernelspec": {
   "display_name": "DSPT",
   "language": "python",
   "name": "dspt"
  },
  "language_info": {
   "codemirror_mode": {
    "name": "ipython",
    "version": 3
   },
   "file_extension": ".py",
   "mimetype": "text/x-python",
   "name": "python",
   "nbconvert_exporter": "python",
   "pygments_lexer": "ipython3",
   "version": "3.11.8"
  }
 },
 "nbformat": 4,
 "nbformat_minor": 5
}
