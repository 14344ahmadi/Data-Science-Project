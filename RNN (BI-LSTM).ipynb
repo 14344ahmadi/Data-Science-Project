{
 "cells": [
  {
   "cell_type": "markdown",
   "id": "c69f6005-58d9-48f8-83c5-5b8e104f3256",
   "metadata": {},
   "source": [
    "# NN model"
   ]
  },
  {
   "cell_type": "markdown",
   "id": "14aa36fc-3bd5-4c8a-95bf-515c7176558c",
   "metadata": {},
   "source": [
    "## 1. First attempt without any optimisations\n",
    "We use 4 features:\n",
    "- text\n",
    "- HasEmoji\n",
    "- LengthCharacters\n",
    "- DocumentType"
   ]
  },
  {
   "cell_type": "markdown",
   "id": "4dd893b1-95a3-46ed-886d-4f8593085e13",
   "metadata": {},
   "source": [
    "### 1.1 Data reprocessing"
   ]
  },
  {
   "cell_type": "code",
   "execution_count": 27,
   "id": "61d12239-3e68-4780-b2bb-9dab0b70151e",
   "metadata": {},
   "outputs": [],
   "source": [
    "# Load the data\n",
    "df = pd.read_csv('data/prepared_data.csv')\n",
    "\n",
    "# Select relevant columns\n",
    "df = df[['cleaned_text', 'LabelMapped']]"
   ]
  },
  {
   "cell_type": "code",
   "execution_count": 29,
   "id": "7539e684-a32c-4e57-a8b6-092acec31f22",
   "metadata": {},
   "outputs": [],
   "source": [
    "df['LabelMapped'] = df['LabelMapped'].apply(lambda x: x + 1)  # Now -1 -> 0, 0 -> 1, 1 -> 2"
   ]
  },
  {
   "cell_type": "code",
   "execution_count": 30,
   "id": "eb4a1bbc-ef05-49b8-9baf-3dab36a328d6",
   "metadata": {},
   "outputs": [
    {
     "data": {
      "text/html": [
       "<div>\n",
       "<style scoped>\n",
       "    .dataframe tbody tr th:only-of-type {\n",
       "        vertical-align: middle;\n",
       "    }\n",
       "\n",
       "    .dataframe tbody tr th {\n",
       "        vertical-align: top;\n",
       "    }\n",
       "\n",
       "    .dataframe thead th {\n",
       "        text-align: right;\n",
       "    }\n",
       "</style>\n",
       "<table border=\"1\" class=\"dataframe\">\n",
       "  <thead>\n",
       "    <tr style=\"text-align: right;\">\n",
       "      <th></th>\n",
       "      <th>cleaned_text</th>\n",
       "      <th>LabelMapped</th>\n",
       "    </tr>\n",
       "  </thead>\n",
       "  <tbody>\n",
       "    <tr>\n",
       "      <th>0</th>\n",
       "      <td>arrived broken manufacturer defect two of the ...</td>\n",
       "      <td>0</td>\n",
       "    </tr>\n",
       "    <tr>\n",
       "      <th>1</th>\n",
       "      <td>the cabinet dot were all detached from backing...</td>\n",
       "      <td>0</td>\n",
       "    </tr>\n",
       "    <tr>\n",
       "      <th>2</th>\n",
       "      <td>i received my first order of this product and ...</td>\n",
       "      <td>0</td>\n",
       "    </tr>\n",
       "    <tr>\n",
       "      <th>3</th>\n",
       "      <td>this product is a piece of shit do not buy doe...</td>\n",
       "      <td>0</td>\n",
       "    </tr>\n",
       "    <tr>\n",
       "      <th>4</th>\n",
       "      <td>went through in one day doesnt fit correct and...</td>\n",
       "      <td>0</td>\n",
       "    </tr>\n",
       "    <tr>\n",
       "      <th>...</th>\n",
       "      <td>...</td>\n",
       "      <td>...</td>\n",
       "    </tr>\n",
       "    <tr>\n",
       "      <th>255077</th>\n",
       "      <td>racaltosk ok good to know punting at metlife i...</td>\n",
       "      <td>2</td>\n",
       "    </tr>\n",
       "    <tr>\n",
       "      <th>255078</th>\n",
       "      <td>everyone who sat around me at metlife was so a...</td>\n",
       "      <td>1</td>\n",
       "    </tr>\n",
       "    <tr>\n",
       "      <th>255079</th>\n",
       "      <td>what giants or niners fans would wanna go to t...</td>\n",
       "      <td>1</td>\n",
       "    </tr>\n",
       "    <tr>\n",
       "      <th>255080</th>\n",
       "      <td>anybody want a ticket for tomorrow colombia vs...</td>\n",
       "      <td>2</td>\n",
       "    </tr>\n",
       "    <tr>\n",
       "      <th>255081</th>\n",
       "      <td>mendez told me hed drive me to metlife on sund...</td>\n",
       "      <td>1</td>\n",
       "    </tr>\n",
       "  </tbody>\n",
       "</table>\n",
       "<p>255082 rows × 2 columns</p>\n",
       "</div>"
      ],
      "text/plain": [
       "                                             cleaned_text  LabelMapped\n",
       "0       arrived broken manufacturer defect two of the ...            0\n",
       "1       the cabinet dot were all detached from backing...            0\n",
       "2       i received my first order of this product and ...            0\n",
       "3       this product is a piece of shit do not buy doe...            0\n",
       "4       went through in one day doesnt fit correct and...            0\n",
       "...                                                   ...          ...\n",
       "255077  racaltosk ok good to know punting at metlife i...            2\n",
       "255078  everyone who sat around me at metlife was so a...            1\n",
       "255079  what giants or niners fans would wanna go to t...            1\n",
       "255080  anybody want a ticket for tomorrow colombia vs...            2\n",
       "255081  mendez told me hed drive me to metlife on sund...            1\n",
       "\n",
       "[255082 rows x 2 columns]"
      ]
     },
     "execution_count": 30,
     "metadata": {},
     "output_type": "execute_result"
    }
   ],
   "source": [
    "df"
   ]
  },
  {
   "cell_type": "markdown",
   "id": "e43b3af5-871f-4631-8295-368f54c821bc",
   "metadata": {},
   "source": [
    "### building the model"
   ]
  },
  {
   "cell_type": "code",
   "execution_count": 43,
   "id": "6abeaddd-fa21-4318-8764-9d64a28e1bbd",
   "metadata": {},
   "outputs": [
    {
     "name": "stdout",
     "output_type": "stream",
     "text": [
      "[0 1 2]\n",
      "Epoch 1/10\n",
      "6378/6378 - 404s - 63ms/step - accuracy: 0.6318 - loss: 0.8045 - val_accuracy: 0.7039 - val_loss: 0.6766\n",
      "Epoch 2/10\n",
      "6378/6378 - 399s - 63ms/step - accuracy: 0.7110 - loss: 0.6705 - val_accuracy: 0.7171 - val_loss: 0.6471\n",
      "Epoch 3/10\n",
      "6378/6378 - 399s - 63ms/step - accuracy: 0.7346 - loss: 0.6263 - val_accuracy: 0.7197 - val_loss: 0.6392\n",
      "Epoch 4/10\n",
      "6378/6378 - 399s - 63ms/step - accuracy: 0.7521 - loss: 0.5889 - val_accuracy: 0.7187 - val_loss: 0.6477\n",
      "Epoch 5/10\n",
      "6378/6378 - 398s - 62ms/step - accuracy: 0.7701 - loss: 0.5543 - val_accuracy: 0.7140 - val_loss: 0.6648\n",
      "Epoch 6/10\n",
      "6378/6378 - 399s - 63ms/step - accuracy: 0.7844 - loss: 0.5200 - val_accuracy: 0.7122 - val_loss: 0.7098\n",
      "Epoch 7/10\n",
      "6378/6378 - 399s - 63ms/step - accuracy: 0.8009 - loss: 0.4845 - val_accuracy: 0.7068 - val_loss: 0.7617\n",
      "Epoch 8/10\n",
      "6378/6378 - 399s - 63ms/step - accuracy: 0.8154 - loss: 0.4510 - val_accuracy: 0.7025 - val_loss: 0.8017\n",
      "Epoch 9/10\n",
      "6378/6378 - 399s - 62ms/step - accuracy: 0.8298 - loss: 0.4190 - val_accuracy: 0.6980 - val_loss: 0.8837\n",
      "Epoch 10/10\n",
      "6378/6378 - 398s - 62ms/step - accuracy: 0.8421 - loss: 0.3897 - val_accuracy: 0.6951 - val_loss: 0.9431\n",
      "1595/1595 - 32s - 20ms/step - accuracy: 0.6951 - loss: 0.9431\n",
      "Loss: 0.9430671334266663\n",
      "Accuracy: 0.6951212286949158\n"
     ]
    }
   ],
   "source": [
    "from tensorflow.keras.models import Sequential\n",
    "from tensorflow.keras.layers import Embedding, GlobalAveragePooling1D, Dense, LSTM, Bidirectional, Dropout\n",
    "from tensorflow.keras.preprocessing.text import Tokenizer\n",
    "from tensorflow.keras.preprocessing.sequence import pad_sequences\n",
    "from tensorflow.keras.utils import to_categorical\n",
    "from sklearn.model_selection import train_test_split\n",
    "import pandas as pd\n",
    "import numpy as np\n",
    "\n",
    "# Load the data\n",
    "df = pd.read_csv('data/prepared_data.csv')\n",
    "df = df[['cleaned_text', 'LabelMapped']]\n",
    "\n",
    "# Encode labels (convert -1 to 0, 0 to 1, 1 to 2)\n",
    "df['LabelMapped'] = df['LabelMapped'].apply(lambda x: x + 1)\n",
    "\n",
    "# Ensure labels are correctly transformed\n",
    "print(df['LabelMapped'].unique())  # Should print [0, 1, 2]\n",
    "\n",
    "# One-hot encode labels\n",
    "labels = to_categorical(df['LabelMapped'], num_classes=3)\n",
    "\n",
    "# Split data into training and test sets\n",
    "train_texts, test_texts, train_labels, test_labels = train_test_split(\n",
    "    df['cleaned_text'], labels, test_size=0.2, random_state=42\n",
    ")\n",
    "\n",
    "# Tokenize the text\n",
    "tokenizer = Tokenizer(num_words=10000, oov_token=\"<OOV>\")\n",
    "tokenizer.fit_on_texts(train_texts)\n",
    "train_sequences = tokenizer.texts_to_sequences(train_texts)\n",
    "test_sequences = tokenizer.texts_to_sequences(test_texts)\n",
    "\n",
    "# Pad the sequences\n",
    "max_length = 100\n",
    "train_padded = pad_sequences(train_sequences, maxlen=max_length, padding='post', truncating='post')\n",
    "test_padded = pad_sequences(test_sequences, maxlen=max_length, padding='post', truncating='post')\n",
    "\n",
    "# Convert to numpy arrays\n",
    "train_padded = np.array(train_padded)\n",
    "test_padded = np.array(test_padded)\n",
    "train_labels = np.array(train_labels)\n",
    "test_labels = np.array(test_labels)\n",
    "\n",
    "# Check for NaNs or missing values\n",
    "assert not np.any(np.isnan(train_padded)), \"Train padded sequences contain NaNs\"\n",
    "assert not np.any(np.isnan(test_padded)), \"Test padded sequences contain NaNs\"\n",
    "assert not np.any(np.isnan(train_labels)), \"Train labels contain NaNs\"\n",
    "assert not np.any(np.isnan(test_labels)), \"Test labels contain NaNs\"\n",
    "\n",
    "# Define the model\n",
    "model = Sequential([\n",
    "    Embedding(input_dim=10000, output_dim=64),\n",
    "    Bidirectional(LSTM(64, return_sequences=True)),\n",
    "    Dropout(0.5),\n",
    "    GlobalAveragePooling1D(),\n",
    "    Dense(24, activation='relu'),\n",
    "    Dropout(0.5),\n",
    "    Dense(3, activation='softmax')  # 3 classes for multi-class classification\n",
    "])\n",
    "\n",
    "# Compile the model\n",
    "model.compile(optimizer='adam', loss='categorical_crossentropy', metrics=['accuracy'])\n",
    "\n",
    "# Train the model\n",
    "history = model.fit(\n",
    "    train_padded,\n",
    "    train_labels,\n",
    "    epochs=10,\n",
    "    validation_data=(test_padded, test_labels),\n",
    "    verbose=2\n",
    ")\n",
    "\n",
    "# Evaluate the model\n",
    "loss, accuracy = model.evaluate(test_padded, test_labels, verbose=2)\n",
    "print(f'Loss: {loss}')\n",
    "print(f'Accuracy: {accuracy}')\n"
   ]
  },
  {
   "cell_type": "markdown",
   "id": "c37dfb89-2fde-4aa0-8fc5-b06d51aa7de5",
   "metadata": {},
   "source": [
    "## Confusion matrix"
   ]
  },
  {
   "cell_type": "code",
   "execution_count": 49,
   "id": "5d7c4a0a-7c1d-4792-b9b7-95e841b0dab0",
   "metadata": {},
   "outputs": [
    {
     "name": "stdout",
     "output_type": "stream",
     "text": [
      "1595/1595 - 32s - 20ms/step\n"
     ]
    },
    {
     "data": {
      "image/png": "[encoded data removed]",
      "text/plain": [
       "<Figure size 640x480 with 2 Axes>"
      ]
     },
     "metadata": {},
     "output_type": "display_data"
    }
   ],
   "source": [
    "import numpy as np\n",
    "from sklearn.metrics import confusion_matrix, ConfusionMatrixDisplay\n",
    "import matplotlib.pyplot as plt\n",
    "\n",
    "# Predict the class probabilities for the test set\n",
    "predictions = model.predict(test_padded, verbose=2)\n",
    "\n",
    "# Convert probabilities to class labels\n",
    "predicted_labels = np.argmax(predictions, axis=1)\n",
    "true_labels = np.argmax(test_labels, axis=1)\n",
    "\n",
    "# Generate the confusion matrix\n",
    "cm = confusion_matrix(true_labels, predicted_labels, labels=[0, 1, 2])\n",
    "\n",
    "# Display the confusion matrix\n",
    "disp = ConfusionMatrixDisplay(confusion_matrix=cm, display_labels=[0, 1, 2])\n",
    "disp.plot(cmap=plt.cm.Blues)\n",
    "plt.show()\n"
   ]
  },
  {
   "cell_type": "code",
   "execution_count": null,
   "id": "ef6fb26e-91cc-4890-97f5-144b7369328e",
   "metadata": {},
   "outputs": [],
   "source": []
  }
 ],
 "metadata": {
  "kernelspec": {
   "display_name": "Python 3 (ipykernel)",
   "language": "python",
   "name": "python3"
  },
  "language_info": {
   "codemirror_mode": {
    "name": "ipython",
    "version": 3
   },
   "file_extension": ".py",
   "mimetype": "text/x-python",
   "name": "python",
   "nbconvert_exporter": "python",
   "pygments_lexer": "ipython3",
   "version": "3.10.9"
  }
 },
 "nbformat": 4,
 "nbformat_minor": 5
}
